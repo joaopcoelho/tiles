{
 "cells": [
  {
   "cell_type": "markdown",
   "metadata": {},
   "source": [
    "# Scraping play-by-play data from stats.nba.com\n",
    "\n",
    "We define two methods, one using BeautifulSoup and the other using the stats.nba.com API (via http://www.gregreda.com/2015/02/15/web-scraping-finding-the-api/).\n",
    "\n",
    "We use the API method.\n",
    "\n",
    "The BeautifulSoup method is preserved for reference.\n",
    "\n",
    "We use the EVENTMSGTYPE column because it encodes the action information. See DOCS.md for details."
   ]
  },
  {
   "cell_type": "markdown",
   "metadata": {},
   "source": [
    "## Method 2 - with stats.nba.com API"
   ]
  },
  {
   "cell_type": "code",
   "execution_count": 148,
   "metadata": {
    "collapsed": true
   },
   "outputs": [],
   "source": [
    "import requests\n",
    "import pandas as pd\n",
    "import numpy as np\n",
    "from IPython.display import display\n",
    "\n",
    "# dont hide columns when displaying dataframe\n",
    "pd.set_option('display.max_columns', None)"
   ]
  },
  {
   "cell_type": "markdown",
   "metadata": {},
   "source": [
    "## Get the data"
   ]
  },
  {
   "cell_type": "code",
   "execution_count": 141,
   "metadata": {
    "collapsed": false
   },
   "outputs": [],
   "source": [
    "# get playbyplay data\n",
    "# needs an internet connection\n",
    "\n",
    "playbyplay_url = 'http://stats.nba.com/stats/playbyplayv2?EndPeriod=10&EndRange=55800&GameID=0041500314&RangeType=2&Season=2015-16&SeasonType=Playoffs&StartPeriod=1&StartRange=0'\n",
    "\n",
    "# request the URL and parse the JSON\n",
    "response = requests.get(playbyplay_url)\n",
    "response.raise_for_status() # raise exception if invalid response\n",
    "header = response.json()['resultSets'][0]['headers']\n",
    "plays = response.json()['resultSets'][0]['rowSet']\n",
    "\n",
    "# get the playbyplay data in a dataframe\n",
    "df_raw = pd.DataFrame(shots, columns=header)"
   ]
  },
  {
   "cell_type": "markdown",
   "metadata": {},
   "source": [
    "## Pre-processing data (including handling missing data)"
   ]
  },
  {
   "cell_type": "code",
   "execution_count": 215,
   "metadata": {
    "collapsed": false
   },
   "outputs": [],
   "source": [
    "# propagate score so that every table has the appropriate score\n",
    "\n",
    "# set first score to 0-0\n",
    "df_raw.set_value(0,'SCORE',\"0 - 0\")\n",
    "# forward-propagate\n",
    "df_raw.SCORE.fillna(method='ffill', inplace=True)\n",
    "\n",
    "\n",
    "# regularize eventnum (sometimes jumps a few)\n",
    "# make it match df line\n",
    "df_raw['EVENTNUM'] = pd.Series(df.index)\n",
    "\n",
    "# create final dataframe with relevant information only\n",
    "\n",
    "relevant_columns = [\"EVENTNUM\", \"EVENTMSGTYPE\", \"EVENTMSGACTIONTYPE\"]\n",
    "df = df_raw[relevant_columns]"
   ]
  },
  {
   "cell_type": "markdown",
   "metadata": {},
   "source": [
    "## Create one-hot encoded event vectors\n",
    "Example: if one event is EVENTNUM=2, then it will be represented by the vector v=[0 0 1 0 0 0  ... 0]"
   ]
  },
  {
   "cell_type": "code",
   "execution_count": 158,
   "metadata": {
    "collapsed": false
   },
   "outputs": [],
   "source": [
    "# define event_to_OHE function\n",
    "\n",
    "def event_to_OHE(event_code, size):\n",
    "    \"\"\"\n",
    "    converts event_code to a One-Hot Encoded (OHE) vector of lenght size\n",
    "    \n",
    "    Input:\n",
    "        event_code (int): the event code\n",
    "        size (int): the lenght of the final OHE vector\n",
    "    \n",
    "    Output:\n",
    "        event_OHE (ndarray): OHE vector\n",
    "    \n",
    "    Dependencies:\n",
    "        numpy as np\n",
    "    \n",
    "    Comments:\n",
    "        enforces event_code to be smaller than size.\n",
    "        expecting 0 to be a valid event_code\n",
    "        \n",
    "    Examples:\n",
    "        event_to_OHE(3, 5) = np.array([0,0,0,1,0])\n",
    "        event_to_OHE(1, 2) = np.array([0,1])\n",
    "    \"\"\"\n",
    "    assert event_code < size\n",
    "    \n",
    "    vec = np.zeros(size)\n",
    "    vec[event_code] = 1.\n",
    "    \n",
    "    return vec\n",
    "\n",
    "assert np.array_equal(event_to_OHE(4,5), np.array([0,0,0,0,1]))\n",
    "assert np.array_equal(event_to_OHE(1,10), np.array([0,1,0,0,0,0,0,0,0,0]))\n",
    "assert np.array_equal(event_to_OHE(0,2), np.array([1,0]))"
   ]
  },
  {
   "cell_type": "code",
   "execution_count": 229,
   "metadata": {
    "collapsed": false
   },
   "outputs": [
    {
     "data": {
      "text/plain": [
       "[47, 60, 99, 142, 195, 225, 274, 307, 330, 372, 431, 467, 483]"
      ]
     },
     "execution_count": 229,
     "metadata": {},
     "output_type": "execute_result"
    }
   ],
   "source": [
    "# get timeout events ID: those that match EVENTMSGTYPE=9\n",
    "\n",
    "timeout_events_df = df[(df.EVENTMSGTYPE==9) & ((df.EVENTMSGACTIONTYPE==1) | (df.EVENTMSGACTIONTYPE==2))]\n",
    "timeout_events = list(timeout_events_df[\"EVENTNUM\"])\n",
    "num_timeout_events = len(timeout_events)\n",
    "timeout_events"
   ]
  },
  {
   "cell_type": "code",
   "execution_count": 230,
   "metadata": {
    "collapsed": false
   },
   "outputs": [],
   "source": [
    "# create OHE df\n",
    "\n",
    "num_features = max(df.EVENTMSGTYPE) + 1 # account for EVENTMSGTYPE=0\n",
    "df_ohe = pd.DataFrame([event_to_OHE(x, num_features) for x in df.EVENTMSGTYPE])"
   ]
  },
  {
   "cell_type": "code",
   "execution_count": 236,
   "metadata": {
    "collapsed": false
   },
   "outputs": [],
   "source": [
    "# create design matrix X by summing over K events before timeout\n",
    "\n",
    "K = 10\n",
    "\n",
    "X = np.zeros((num_timeout_events, num_features))\n",
    "\n",
    "idx=0\n",
    "for timeout_id in timeout_events:\n",
    "    before_events = df_ohe.iloc[timeout_id-10:timeout_id]\n",
    "    X[idx,:] = sum(before_events)\n",
    "    idx+=1"
   ]
  },
  {
   "cell_type": "code",
   "execution_count": 243,
   "metadata": {
    "collapsed": false
   },
   "outputs": [],
   "source": [
    "# create labels\n",
    "\n",
    "y = ones(num_timeout_events)"
   ]
  },
  {
   "cell_type": "markdown",
   "metadata": {},
   "source": [
    "Probably what we want to do is not to select only the timeouts, but to run a sort of window through all the events and populate a label vector with whether it was a timeout or not"
   ]
  },
  {
   "cell_type": "code",
   "execution_count": 244,
   "metadata": {
    "collapsed": false
   },
   "outputs": [
    {
     "data": {
      "text/plain": [
       "<matplotlib.image.AxesImage at 0x1112ed8d0>"
      ]
     },
     "execution_count": 244,
     "metadata": {},
     "output_type": "execute_result"
    },
    {
     "data": {
      "image/png": "[encoded data removed]",
      "text/plain": [
       "<matplotlib.figure.Figure at 0x1113638d0>"
      ]
     },
     "metadata": {},
     "output_type": "display_data"
    }
   ],
   "source": [
    "## Visualizing X\n",
    "\n",
    "plt.imshow(X)"
   ]
  },
  {
   "cell_type": "markdown",
   "metadata": {},
   "source": [
    "## Learning"
   ]
  },
  {
   "cell_type": "markdown",
   "metadata": {},
   "source": [
    "Model 1 - Linear regression"
   ]
  },
  {
   "cell_type": "code",
   "execution_count": 245,
   "metadata": {
    "collapsed": false
   },
   "outputs": [
    {
     "data": {
      "text/plain": [
       "array([[ 0.,  2.,  3.,  1.,  3.,  0.,  0.,  0.,  1.,  0.,  0.,  0.,  0.,\n",
       "         0.],\n",
       "       [ 0.,  3.,  2.,  0.,  2.,  3.,  0.,  0.,  0.,  0.,  0.,  0.,  0.,\n",
       "         0.],\n",
       "       [ 0.,  2.,  1.,  2.,  2.,  1.,  1.,  0.,  1.,  0.,  0.,  0.,  0.,\n",
       "         0.],\n",
       "       [ 0.,  2.,  2.,  2.,  2.,  2.,  0.,  0.,  0.,  0.,  0.,  0.,  0.,\n",
       "         0.],\n",
       "       [ 0.,  2.,  1.,  3.,  1.,  0.,  3.,  0.,  0.,  0.,  0.,  0.,  0.,\n",
       "         0.],\n",
       "       [ 0.,  3.,  2.,  2.,  3.,  0.,  0.,  0.,  0.,  0.,  0.,  0.,  0.,\n",
       "         0.],\n",
       "       [ 0.,  1.,  2.,  2.,  4.,  0.,  1.,  0.,  0.,  0.,  0.,  0.,  0.,\n",
       "         0.],\n",
       "       [ 0.,  0.,  5.,  0.,  5.,  0.,  0.,  0.,  0.,  0.,  0.,  0.,  0.,\n",
       "         0.],\n",
       "       [ 0.,  2.,  3.,  1.,  3.,  1.,  0.,  0.,  0.,  0.,  0.,  0.,  0.,\n",
       "         0.],\n",
       "       [ 0.,  1.,  2.,  2.,  2.,  1.,  1.,  0.,  1.,  0.,  0.,  0.,  0.,\n",
       "         0.],\n",
       "       [ 0.,  0.,  3.,  1.,  3.,  1.,  1.,  0.,  1.,  0.,  0.,  0.,  0.,\n",
       "         0.],\n",
       "       [ 0.,  1.,  3.,  0.,  3.,  1.,  2.,  0.,  0.,  0.,  0.,  0.,  0.,\n",
       "         0.],\n",
       "       [ 0.,  4.,  2.,  0.,  3.,  1.,  0.,  0.,  0.,  0.,  0.,  0.,  0.,\n",
       "         0.]])"
      ]
     },
     "execution_count": 245,
     "metadata": {},
     "output_type": "execute_result"
    }
   ],
   "source": [
    "from sklearn.linear_model import LinearRegression\n",
    "\n",
    "# standardize features\n",
    "X\n",
    "\n",
    "# fit model\n",
    "\n",
    "# cross val"
   ]
  },
  {
   "cell_type": "markdown",
   "metadata": {},
   "source": [
    "# Reference code\n",
    "\n",
    "Not used"
   ]
  },
  {
   "cell_type": "markdown",
   "metadata": {
    "collapsed": false
   },
   "source": [
    "## Method 1 - with BeautifulSoup\n",
    "Not used\n"
   ]
  },
  {
   "cell_type": "code",
   "execution_count": 38,
   "metadata": {
    "collapsed": false
   },
   "outputs": [
    {
     "name": "stderr",
     "output_type": "stream",
     "text": [
      "/Users/joaopcoelho/anaconda/envs/python3/lib/python3.5/site-packages/bs4/__init__.py:166: UserWarning: No parser was explicitly specified, so I'm using the best available HTML parser for this system (\"html.parser\"). This usually isn't a problem, but if you run this code on another system, or in a different virtual environment, it may use a different parser and behave differently.\n",
      "\n",
      "To get rid of this warning, change this:\n",
      "\n",
      " BeautifulSoup([your markup])\n",
      "\n",
      "to this:\n",
      "\n",
      " BeautifulSoup([your markup], \"html.parser\")\n",
      "\n",
      "  markup_type=markup_type))\n"
     ]
    }
   ],
   "source": [
    "# get all the info in the website, via inspecting the html code\n",
    "# not used \n",
    "\n",
    "from bs4 import BeautifulSoup\n",
    "import requests\n",
    "\n",
    "import pandas as pd\n",
    "\n",
    "url = \"http://stats.nba.com/game/#!/0041500314/playbyplay/\"\n",
    "r  = requests.get(url)\n",
    "\n",
    "data = r.text\n",
    "soup = BeautifulSoup(data)\n",
    "#print(soup.prettify())\n",
    "\n",
    "table = soup.find('table', attrs={'class': \"table\"})\n",
    "#print(table)\n",
    "\n",
    "\n",
    "rows = table.findAll('tr')\n",
    "for tr in rows:\n",
    "    cols = tr.findAll('td')\n",
    "    for td in cols:\n",
    "        text = td.find(text=True) + ';'\n",
    "#        print (text)\n"
   ]
  },
  {
   "cell_type": "code",
   "execution_count": 30,
   "metadata": {
    "collapsed": false
   },
   "outputs": [],
   "source": [
    "# timeouts baby\n",
    "\n",
    "df_home  = df[df.HOMEDESCRIPTION.notnull()]\n",
    "df_home_timeouts=df_home[df_home.HOMEDESCRIPTION.str.contains(\"Timeout\")]\n",
    "\n",
    "df_away  = df[df.VISITORDESCRIPTION.notnull()]\n",
    "df_away_timeouts=df_away[df_away.VISITORDESCRIPTION.str.contains(\"Timeout\")]"
   ]
  },
  {
   "cell_type": "code",
   "execution_count": 31,
   "metadata": {
    "collapsed": false
   },
   "outputs": [],
   "source": [
    "total_timeouts = pd.concat([df_home_timeouts, df_away_timeouts])"
   ]
  },
  {
   "cell_type": "code",
   "execution_count": 107,
   "metadata": {
    "collapsed": false,
    "scrolled": true
   },
   "outputs": [
    {
     "data": {
      "text/html": [
       "<div>\n",
       "<table border=\"1\" class=\"dataframe\">\n",
       "  <thead>\n",
       "    <tr style=\"text-align: right;\">\n",
       "      <th></th>\n",
       "      <th>EVENTMSGTYPE</th>\n",
       "      <th>HOMEDESCRIPTION</th>\n",
       "      <th>VISITORDESCRIPTION</th>\n",
       "      <th>SCORE</th>\n",
       "    </tr>\n",
       "  </thead>\n",
       "  <tbody>\n",
       "    <tr>\n",
       "      <th>47</th>\n",
       "      <td>9</td>\n",
       "      <td>None</td>\n",
       "      <td>Warriors Timeout: Regular (Reg.1 Short 0)</td>\n",
       "      <td>8 - 15</td>\n",
       "    </tr>\n",
       "    <tr>\n",
       "      <th>60</th>\n",
       "      <td>9</td>\n",
       "      <td>None</td>\n",
       "      <td>Warriors Timeout: Short (Reg.1 Short 1)</td>\n",
       "      <td>8 - 22</td>\n",
       "    </tr>\n",
       "    <tr>\n",
       "      <th>99</th>\n",
       "      <td>9</td>\n",
       "      <td>THUNDER Timeout: Regular (Full 1 Short 0)</td>\n",
       "      <td>None</td>\n",
       "      <td>19 - 28</td>\n",
       "    </tr>\n",
       "    <tr>\n",
       "      <th>142</th>\n",
       "      <td>9</td>\n",
       "      <td>THUNDER Timeout: Regular (Full 2 Short 0)</td>\n",
       "      <td>None</td>\n",
       "      <td>30 - 32</td>\n",
       "    </tr>\n",
       "    <tr>\n",
       "      <th>195</th>\n",
       "      <td>9</td>\n",
       "      <td>None</td>\n",
       "      <td>Warriors Timeout: Regular (Reg.2 Short 1)</td>\n",
       "      <td>40 - 47</td>\n",
       "    </tr>\n",
       "    <tr>\n",
       "      <th>225</th>\n",
       "      <td>9</td>\n",
       "      <td>None</td>\n",
       "      <td>Warriors Timeout: Regular (Reg.3 Short 1)</td>\n",
       "      <td>43 - 56</td>\n",
       "    </tr>\n",
       "    <tr>\n",
       "      <th>274</th>\n",
       "      <td>9</td>\n",
       "      <td>THUNDER Timeout: Short (Full 2 Short 1)</td>\n",
       "      <td>None</td>\n",
       "      <td>50 - 69</td>\n",
       "    </tr>\n",
       "    <tr>\n",
       "      <th>307</th>\n",
       "      <td>9</td>\n",
       "      <td>THUNDER Timeout: Regular (Full 3 Short 1)</td>\n",
       "      <td>None</td>\n",
       "      <td>55 - 72</td>\n",
       "    </tr>\n",
       "    <tr>\n",
       "      <th>330</th>\n",
       "      <td>9</td>\n",
       "      <td>THUNDER Timeout: Short (Full 3 Short 2)</td>\n",
       "      <td>None</td>\n",
       "      <td>65 - 76</td>\n",
       "    </tr>\n",
       "    <tr>\n",
       "      <th>372</th>\n",
       "      <td>9</td>\n",
       "      <td>None</td>\n",
       "      <td>Warriors Timeout: Regular (Reg.4 Short 1)</td>\n",
       "      <td>74 - 84</td>\n",
       "    </tr>\n",
       "    <tr>\n",
       "      <th>431</th>\n",
       "      <td>9</td>\n",
       "      <td>None</td>\n",
       "      <td>Warriors Timeout: Regular (Reg.5 Short 1)</td>\n",
       "      <td>85 - 98</td>\n",
       "    </tr>\n",
       "    <tr>\n",
       "      <th>467</th>\n",
       "      <td>9</td>\n",
       "      <td>None</td>\n",
       "      <td>Warriors Timeout: Short (Reg.5 Short 2)</td>\n",
       "      <td>89 - 107</td>\n",
       "    </tr>\n",
       "    <tr>\n",
       "      <th>483</th>\n",
       "      <td>9</td>\n",
       "      <td>None</td>\n",
       "      <td>Warriors Timeout: Regular (Reg.6 Short 2)</td>\n",
       "      <td>91 - 114</td>\n",
       "    </tr>\n",
       "  </tbody>\n",
       "</table>\n",
       "</div>"
      ],
      "text/plain": [
       "     EVENTMSGTYPE                            HOMEDESCRIPTION  \\\n",
       "47              9                                       None   \n",
       "60              9                                       None   \n",
       "99              9  THUNDER Timeout: Regular (Full 1 Short 0)   \n",
       "142             9  THUNDER Timeout: Regular (Full 2 Short 0)   \n",
       "195             9                                       None   \n",
       "225             9                                       None   \n",
       "274             9    THUNDER Timeout: Short (Full 2 Short 1)   \n",
       "307             9  THUNDER Timeout: Regular (Full 3 Short 1)   \n",
       "330             9    THUNDER Timeout: Short (Full 3 Short 2)   \n",
       "372             9                                       None   \n",
       "431             9                                       None   \n",
       "467             9                                       None   \n",
       "483             9                                       None   \n",
       "\n",
       "                            VISITORDESCRIPTION     SCORE  \n",
       "47   Warriors Timeout: Regular (Reg.1 Short 0)    8 - 15  \n",
       "60     Warriors Timeout: Short (Reg.1 Short 1)    8 - 22  \n",
       "99                                        None   19 - 28  \n",
       "142                                       None   30 - 32  \n",
       "195  Warriors Timeout: Regular (Reg.2 Short 1)   40 - 47  \n",
       "225  Warriors Timeout: Regular (Reg.3 Short 1)   43 - 56  \n",
       "274                                       None   50 - 69  \n",
       "307                                       None   55 - 72  \n",
       "330                                       None   65 - 76  \n",
       "372  Warriors Timeout: Regular (Reg.4 Short 1)   74 - 84  \n",
       "431  Warriors Timeout: Regular (Reg.5 Short 1)   85 - 98  \n",
       "467    Warriors Timeout: Short (Reg.5 Short 2)  89 - 107  \n",
       "483  Warriors Timeout: Regular (Reg.6 Short 2)  91 - 114  "
      ]
     },
     "execution_count": 107,
     "metadata": {},
     "output_type": "execute_result"
    }
   ],
   "source": [
    "total_timeouts.sort_values(by=\"EVENTNUM\")[[\"EVENTMSGTYPE\", \"HOMEDESCRIPTION\", \"VISITORDESCRIPTION\", \"SCORE\"]]"
   ]
  },
  {
   "cell_type": "code",
   "execution_count": null,
   "metadata": {
    "collapsed": true
   },
   "outputs": [],
   "source": []
  },
  {
   "cell_type": "code",
   "execution_count": 120,
   "metadata": {
    "collapsed": false
   },
   "outputs": [
    {
     "data": {
      "text/html": [
       "<div>\n",
       "<table border=\"1\" class=\"dataframe\">\n",
       "  <thead>\n",
       "    <tr style=\"text-align: right;\">\n",
       "      <th></th>\n",
       "      <th>EVENTMSGTYPE</th>\n",
       "      <th>EVENTMSGACTIONTYPE</th>\n",
       "      <th>HOMEDESCRIPTION</th>\n",
       "      <th>NEUTRALDESCRIPTION</th>\n",
       "      <th>VISITORDESCRIPTION</th>\n",
       "    </tr>\n",
       "  </thead>\n",
       "  <tbody>\n",
       "  </tbody>\n",
       "</table>\n",
       "</div>"
      ],
      "text/plain": [
       "Empty DataFrame\n",
       "Columns: [EVENTMSGTYPE, EVENTMSGACTIONTYPE, HOMEDESCRIPTION, NEUTRALDESCRIPTION, VISITORDESCRIPTION]\n",
       "Index: []"
      ]
     },
     "metadata": {},
     "output_type": "display_data"
    }
   ],
   "source": [
    "# Explore data\n",
    "# fields to explore: EVENTMSGACTIONTYPE, EVENTMSGTYPE\n",
    "\n",
    "field_to_explore = \"EVENTMSGTYPE\"\n",
    "fields_to_show = [field_to_explore] + [\"EVENTMSGACTIONTYPE\", \"HOMEDESCRIPTION\", \"NEUTRALDESCRIPTION\", \"VISITORDESCRIPTION\"]\n",
    "\n",
    "a = df[fields_to_show]\n",
    "\n",
    "max_ = df[field_to_explore].max()\n",
    "\n",
    "from ipywidgets import interact\n",
    "\n",
    "n=1\n",
    "@interact(emat = (0,int(max_)))\n",
    "def show_df(emat=n):\n",
    "    display(a[a[field_to_explore] == emat])\n"
   ]
  },
  {
   "cell_type": "code",
   "execution_count": null,
   "metadata": {
    "collapsed": true
   },
   "outputs": [],
   "source": [
    "#df[df.HOMEDESCRIPTION.str.contains(\"Jump\", na=False)]\n"
   ]
  }
 ],
 "metadata": {
  "kernelspec": {
   "display_name": "Python 3 (python3)",
   "language": "python",
   "name": "py3kernel"
  },
  "language_info": {
   "codemirror_mode": {
    "name": "ipython",
    "version": 3
   },
   "file_extension": ".py",
   "mimetype": "text/x-python",
   "name": "python",
   "nbconvert_exporter": "python",
   "pygments_lexer": "ipython3",
   "version": "3.5.2"
  }
 },
 "nbformat": 4,
 "nbformat_minor": 0
}
