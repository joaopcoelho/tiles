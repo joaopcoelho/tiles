{
 "cells": [
  {
   "cell_type": "markdown",
   "metadata": {},
   "source": [
    "# TILES\n",
    "## Scraping play-by-play data from stats.nba.com\n",
    "\n",
    "We define two methods, one using BeautifulSoup and the other using the stats.nba.com API (via http://www.gregreda.com/2015/02/15/web-scraping-finding-the-api/).\n",
    "\n",
    "We use the API method.\n",
    "\n",
    "The BeautifulSoup method is preserved for reference.\n",
    "\n",
    "We use the EVENTMSGTYPE column because it encodes the action information. See DOCS.md for details."
   ]
  },
  {
   "cell_type": "markdown",
   "metadata": {},
   "source": [
    "## Method 2 - with stats.nba.com API"
   ]
  },
  {
   "cell_type": "code",
   "execution_count": 1,
   "metadata": {
    "collapsed": false
   },
   "outputs": [],
   "source": [
    "import sys\n",
    "import requests\n",
    "import pandas as pd\n",
    "import numpy as np\n",
    "from IPython.display import display, clear_output\n",
    "\n",
    "\n",
    "# dont hide columns when displaying dataframe\n",
    "pd.set_option('display.max_columns', None)"
   ]
  },
  {
   "cell_type": "markdown",
   "metadata": {},
   "source": [
    "## Get the data"
   ]
  },
  {
   "cell_type": "markdown",
   "metadata": {},
   "source": [
    "~~sometimes (often) the link does not open on the first try (a HTTP request exception is thrown)~~\n",
    "\n",
    "~~a workaround is to open the link on the browser and then re-run~~\n",
    "\n",
    "SOLVED: need to provide a user-agent"
   ]
  },
  {
   "cell_type": "code",
   "execution_count": 2,
   "metadata": {
    "collapsed": false
   },
   "outputs": [
    {
     "name": "stdout",
     "output_type": "stream",
     "text": [
      "(9/9) Acquired data from http://stats.nba.com/stats/playbyplay?StartPeriod=1&EndPeriod=10&GameID=0021500009\n"
     ]
    }
   ],
   "source": [
    "# get playbyplay data\n",
    "# needs an internet connection\n",
    "\n",
    "# playbyplay_url = 'http://stats.nba.com/stats/playbyplay?StartPeriod=1&EndPeriod=10&GameID=0041500314'\n",
    "# alternative link: 'http://stats.nba.com/stats/playbyplayv2?StartPeriod=1&EndPeriod=10&GameID=0041500314' (more complete data, with player info)\n",
    "\n",
    "base_pbp_url = 'http://stats.nba.com/stats/playbyplay?StartPeriod=1&EndPeriod=10&GameID='\n",
    "\n",
    "\n",
    "# example: get gameIDs for all games of 2015/2016 regular season\n",
    "from tilestools import get_gameID\n",
    "\n",
    "games = []\n",
    "season = 2015\n",
    "typ = 'R'\n",
    "total_games = 10\n",
    "\n",
    "for num in range(1,total_games):\n",
    "    gameid = get_gameID(season, typ, num)\n",
    "    games.append(gameid)\n",
    "\n",
    "# complete URL list\n",
    "\n",
    "pbp_url_list = [base_pbp_url + gameid for gameid in games]\n",
    "\n",
    "\n",
    "df_raw_list = [] \n",
    "j=0\n",
    "for playbyplay_url in pbp_url_list:\n",
    "    j+=1\n",
    "    # request the URL and parse the JSON\n",
    "    head = {'user-agent': 'Mozilla/5.0 (Windows NT 10.0; WOW64; rv:43.0) Gecko/20100101 Firefox/43.0'}\n",
    "    response = requests.get(playbyplay_url, headers=head)\n",
    "    response.raise_for_status() # raise exception if invalid response\n",
    "    header = response.json()['resultSets'][0]['headers']\n",
    "    plays = response.json()['resultSets'][0]['rowSet']\n",
    "\n",
    "    # get the playbyplay data in a dataframe\n",
    "    df_raw_list.append(pd.DataFrame(plays, columns=header))\n",
    "    \n",
    "    clear_output(wait=True)\n",
    "    print(\"({}/{}) Acquired data from {}\".format(j, len(pbp_url_list), playbyplay_url))\n",
    "    sys.stdout.flush()"
   ]
  },
  {
   "cell_type": "markdown",
   "metadata": {},
   "source": [
    "We should find a way of storing all these game logs, to avoid being dependent on internet connection, the logs availability, etc\n",
    "\n",
    "At least write them to CSV"
   ]
  },
  {
   "cell_type": "code",
   "execution_count": 3,
   "metadata": {
    "collapsed": false
   },
   "outputs": [
    {
     "name": "stdout",
     "output_type": "stream",
     "text": [
      "No CSV files written (FLAG_write_to_csv set to False)\n"
     ]
    }
   ],
   "source": [
    "# write acquired data to csv\n",
    "# to use, set FLAG_write_to_csv to True\n",
    "\n",
    "import os\n",
    "\n",
    "FLAG_write_to_csv = False\n",
    "\n",
    "if FLAG_write_to_csv is True:\n",
    "    i=0\n",
    "    basefolder = 'data/'\n",
    "    for g in games:\n",
    "        filename = g+'.csv'\n",
    "        df_raw_list[i].to_csv(os.path.join(basefolder, filename))\n",
    "        \n",
    "        clear_output(wait=True)\n",
    "        print(\"({}/{}) Write CSV file {}\".format(i, len(games), filename))\n",
    "        sys.stdout.flush()\n",
    "        \n",
    "        i+=1\n",
    "        \n",
    "else:\n",
    "    print(\"No CSV files written (FLAG_write_to_csv set to False)\")\n"
   ]
  },
  {
   "cell_type": "markdown",
   "metadata": {},
   "source": [
    "## Pre-processing data (including handling missing data)"
   ]
  },
  {
   "cell_type": "code",
   "execution_count": 4,
   "metadata": {
    "collapsed": false
   },
   "outputs": [
    {
     "name": "stdout",
     "output_type": "stream",
     "text": [
      "(9/9) Size of X: 4136 % of timeout events: 2.611%\n"
     ]
    }
   ],
   "source": [
    "\n",
    "# define features to consider\n",
    "\n",
    "features = [\"REBOUND_HOME\", \"REBOUND_AWAY\", \n",
    "            \"2PT_MADE_HOME\", \"2PT_MADE_AWAY\",\n",
    "            \"2PT_MISS_HOME\", \"2PT_MISS_AWAY\",\n",
    "            \"3PT_MADE_HOME\", \"3PT_MADE_AWAY\",\n",
    "            \"3PT_MISS_HOME\", \"3PT_MISS_AWAY\",\n",
    "            \"TOV_HOME\", \"TOV_AWAY\",\n",
    "            \"TIMEOUT_HOME\", \"TIMEOUT_AWAY\"\n",
    "            ]\n",
    "\n",
    "\n",
    "\n",
    "# set up master_X, master_y to aggregate information of each game\n",
    "# later, these first lines ust be removed\n",
    "master_X = np.ones((1,len(features)-2)) # -2 because of timeouts, which we don't include in X\n",
    "master_y = np.ones(1)\n",
    "\n",
    "# iterate over all games, which are stored in a list of dataframes\n",
    "from tilestools import build_df_events, build_cumulative_data\n",
    "\n",
    "j=0\n",
    "for df_raw in df_raw_list:\n",
    "    j+=1\n",
    "    \n",
    "    # create a copy\n",
    "    df = df_raw.copy()\n",
    "\n",
    "    # propagate score so that every table has the appropriate score\n",
    "\n",
    "    # set first score to 0-0\n",
    "    df.set_value(0,'SCORE',\"0 - 0\")\n",
    "    # forward-propagate\n",
    "    df.SCORE.fillna(method='ffill', inplace=True)\n",
    "\n",
    "\n",
    "    # regularize eventnum (sometimes jumps a few)\n",
    "    # make it match df lin\n",
    "    df['EVENTNUM'] = pd.Series(df.index)\n",
    "\n",
    "\n",
    "    # let's build a dataframe with only 0 and 1: df_events\n",
    "    # each line is an event and is all zeros and only one 1, corresponding to the event \n",
    "    # df_events contains only events which are selected as relevant\n",
    "    # refer to DOCS.md for documentation on how to deal with EVENTMSGTYPE and other features of original dataframe\n",
    "\n",
    "\n",
    "\n",
    "    df_events = build_df_events(df, features)\n",
    "\n",
    "    X, y = build_cumulative_data(df_events, window_size=20)\n",
    "\n",
    "\n",
    "\n",
    "\n",
    "\n",
    "    # now we have a one-hot encoded dataframe where every row is an event and is all zeros except for one column,\n",
    "    #     which corresponds to the event\n",
    "    # must decide what to to with rows that are not featured events!\n",
    "\n",
    "#    print(\"All zero rows: {}/{}\".format((df_events==0).all(axis=1).sum(), len(df_events)))\n",
    "\n",
    "\n",
    "    master_X = np.concatenate((master_X, X))\n",
    "    master_y = np.concatenate((master_y, y))\n",
    "\n",
    "    clear_output(wait=True)\n",
    "    print(\"({}/{}) Size of X: {} % of timeout events: {:.3f}%\".format(j,len(df_raw_list), len(master_X), 100*sum(master_y==1)/len(master_X)))\n",
    "    sys.stdout.flush()\n"
   ]
  },
  {
   "cell_type": "code",
   "execution_count": 5,
   "metadata": {
    "collapsed": false
   },
   "outputs": [],
   "source": [
    "# restore natural nomenclature, deleting first line\n",
    "    \n",
    "X = master_X[1:]\n",
    "y = master_y[1:]"
   ]
  },
  {
   "cell_type": "code",
   "execution_count": 27,
   "metadata": {
    "collapsed": false
   },
   "outputs": [
    {
     "data": {
      "text/plain": [
       "<matplotlib.image.AxesImage at 0x1115272e8>"
      ]
     },
     "execution_count": 27,
     "metadata": {},
     "output_type": "execute_result"
    },
    {
     "data": {
      "image/png": "[encoded data removed]",
      "text/plain": [
       "<matplotlib.figure.Figure at 0x1114a65c0>"
      ]
     },
     "metadata": {},
     "output_type": "display_data"
    }
   ],
   "source": [
    "## Visualizing X\n",
    "## select N random training examples to visualize\n",
    "\n",
    "N = 50\n",
    "\n",
    "idx = np.random.choice(range(len(X)), size=N, replace=False)\n",
    "plt.imshow(X[idx])"
   ]
  },
  {
   "cell_type": "code",
   "execution_count": 38,
   "metadata": {
    "collapsed": false
   },
   "outputs": [
    {
     "data": {
      "text/plain": [
       "107"
      ]
     },
     "execution_count": 38,
     "metadata": {},
     "output_type": "execute_result"
    },
    {
     "data": {
      "image/png": "[encoded data removed]",
      "text/plain": [
       "<matplotlib.figure.Figure at 0x111333780>"
      ]
     },
     "metadata": {},
     "output_type": "display_data"
    }
   ],
   "source": [
    "## Visualize X when it's a timeout event\n",
    "\n",
    "idx = y==1\n",
    "plt.imshow(X[idx])\n",
    "\n",
    "sum(idx)\n",
    "\n",
    "# need more timeouts! this should show some structure!!!!!"
   ]
  },
  {
   "cell_type": "markdown",
   "metadata": {},
   "source": [
    "## Learning"
   ]
  },
  {
   "cell_type": "markdown",
   "metadata": {},
   "source": [
    "First we must set up cross-validation to understand how our model is performing.\n",
    "\n",
    "Because we have very skewed data, i.e. many examples of one class (non-timeout) and few of the other (timeout), we cannot simply randomly split the data into training and test sets because we run the risk of putting very few (or none at all) positive examples in one of the sets.\n",
    "\n",
    "To address this problem we do something called stratified sampling, which simply means selecting data points randomly but preserving the relative class frequencies.\n",
    "\n",
    "So for example, say we have 1000 data points where 10 are positive examples and 990 are negative examples. We want to split the data in 80% training and 20% test data. Then what we do is we randomly select 80% of the 990 negative examples, plus 80% of the 10 positive example, and that is our training set; the remaining 20% of the 990 negative examples plus 20% of the 10 positive examples are our test set.\n",
    "\n",
    "This we we at least ensure we're not making the problem of over-representation of one class even worse."
   ]
  },
  {
   "cell_type": "code",
   "execution_count": 8,
   "metadata": {
    "collapsed": false
   },
   "outputs": [],
   "source": [
    "# let's start by standardizing our features\n",
    "\n",
    "from sklearn.preprocessing import StandardScaler\n",
    "\n",
    "# standardize features\n",
    "sc = StandardScaler(copy=False)\n",
    "sc.fit_transform(X);"
   ]
  },
  {
   "cell_type": "code",
   "execution_count": 9,
   "metadata": {
    "collapsed": false
   },
   "outputs": [],
   "source": [
    "# we'll split our data in 80-20 fashion\n",
    "# because we're dealing with skewed classes, must use stratified sampling\n",
    "from sklearn.cross_validation import train_test_split\n",
    "\n",
    "X_train, X_test, y_train, y_test  = train_test_split(X, y, test_size=0.20, stratify=y)\n"
   ]
  },
  {
   "cell_type": "code",
   "execution_count": 11,
   "metadata": {
    "collapsed": false
   },
   "outputs": [
    {
     "name": "stderr",
     "output_type": "stream",
     "text": [
      "/Users/joaopcoelho/anaconda/envs/python3/lib/python3.5/site-packages/sklearn/metrics/classification.py:1074: UndefinedMetricWarning: Precision is ill-defined and being set to 0.0 due to no predicted samples.\n",
      "  'precision', 'predicted', average, warn_for)\n"
     ]
    }
   ],
   "source": [
    "\n",
    "scores = []\n",
    "\n",
    "for K in range(30):\n",
    "\n",
    "\n",
    "    # we'll split our data in 80-20 fashion\n",
    "    # because we're dealing with skewed classes, must use stratified sampling\n",
    "    from sklearn.cross_validation import train_test_split\n",
    "\n",
    "    X_train, X_test, y_train, y_test  = train_test_split(X, y, test_size=0.20, stratify=y)\n",
    "\n",
    "\n",
    "    # let's try oversampling X, i.e. repeating the timeout data points\n",
    "    # we'll do this up to a point where we get a 90-10 imbalance\n",
    "    # since we start with about 2.5% positive y, \n",
    "\n",
    "    positive_X = X_train[y_train==1]\n",
    "    positive_y = y_train[y_train==1]\n",
    "\n",
    "    positive_y.shape\n",
    "\n",
    "    new_X_train = X_train.copy()\n",
    "    new_y_train = y_train.copy()\n",
    "\n",
    "    addons = K\n",
    "    for i in range(0,addons):\n",
    "        new_X_train = np.concatenate((new_X_train,positive_X))\n",
    "        new_y_train = np.concatenate((new_y_train,positive_y))\n",
    "\n",
    "    X_train=new_X_train\n",
    "    y_train=new_y_train\n",
    "\n",
    "    from sklearn.linear_model import LogisticRegression\n",
    "\n",
    "    # fit model\n",
    "    model = LogisticRegression()\n",
    "    model.fit(X_train,y_train);\n",
    "\n",
    "    y_test_predicted = model.predict(X_test)\n",
    "\n",
    "    from tilestools import F1score\n",
    "    f1 = F1score(y_test, y_test_predicted)\n",
    "    \n",
    "    scores.append((K,f1))"
   ]
  },
  {
   "cell_type": "code",
   "execution_count": 12,
   "metadata": {
    "collapsed": false
   },
   "outputs": [
    {
     "data": {
      "text/plain": [
       "[<matplotlib.lines.Line2D at 0x110615c88>]"
      ]
     },
     "execution_count": 12,
     "metadata": {},
     "output_type": "execute_result"
    },
    {
     "data": {
      "image/png": "[encoded data removed]",
      "text/plain": [
       "<matplotlib.figure.Figure at 0x110455f98>"
      ]
     },
     "metadata": {},
     "output_type": "display_data"
    }
   ],
   "source": [
    "plt.plot(*zip(*scores))"
   ]
  },
  {
   "cell_type": "code",
   "execution_count": 14,
   "metadata": {
    "collapsed": false
   },
   "outputs": [
    {
     "data": {
      "text/plain": [
       "0.068965517241379309"
      ]
     },
     "execution_count": 14,
     "metadata": {},
     "output_type": "execute_result"
    }
   ],
   "source": [
    "X_train=new_X_train\n",
    "y_train=new_y_train\n",
    "\n",
    "from sklearn.linear_model import LogisticRegression\n",
    "\n",
    "# fit model\n",
    "model = LogisticRegression()\n",
    "model.fit(X_train,y_train);\n",
    "\n",
    "y_test_predicted = model.predict(X_test)\n",
    "\n",
    "from tilestools import F1score\n",
    "F1score(y_test, y_test_predicted)"
   ]
  },
  {
   "cell_type": "markdown",
   "metadata": {},
   "source": [
    "Let's train our first model - Logistic regression"
   ]
  },
  {
   "cell_type": "code",
   "execution_count": 16,
   "metadata": {
    "collapsed": false
   },
   "outputs": [
    {
     "data": {
      "text/plain": [
       "0.068965517241379309"
      ]
     },
     "execution_count": 16,
     "metadata": {},
     "output_type": "execute_result"
    }
   ],
   "source": [
    "from sklearn.linear_model import LogisticRegression\n",
    "\n",
    "# fit model\n",
    "model = LogisticRegression()\n",
    "model.fit(X_train,y_train);\n",
    "\n",
    "y_test_predicted = model.predict(X_test)\n",
    "\n",
    "from tilestools import F1score\n",
    "F1score(y_test, y_test_predicted)"
   ]
  },
  {
   "cell_type": "markdown",
   "metadata": {},
   "source": [
    "Cool, let's see training and test scores (mean accuracy)\n"
   ]
  },
  {
   "cell_type": "code",
   "execution_count": 17,
   "metadata": {
    "collapsed": false
   },
   "outputs": [
    {
     "name": "stdout",
     "output_type": "stream",
     "text": [
      "0.617718028266\n",
      "0.738814993954\n"
     ]
    }
   ],
   "source": [
    "print(model.score(X_train,y_train))\n",
    "print(model.score(X_test, y_test))\n"
   ]
  },
  {
   "cell_type": "markdown",
   "metadata": {},
   "source": [
    "Hey, looks pretty good!\n",
    "\n",
    "Wait a minute... "
   ]
  },
  {
   "cell_type": "code",
   "execution_count": 18,
   "metadata": {
    "collapsed": false
   },
   "outputs": [
    {
     "name": "stdout",
     "output_type": "stream",
     "text": [
      "[ 0.  0.  0.  0.  0.  0.  0.  0.  0.  0.  0.  0.  0.  0.  0.  0.  0.  1.\n",
      "  0.  0.  0.  0.  0.  0.  0.  0.  0.  0.  0.  0.  1.  0.  0.  0.  1.  0.\n",
      "  0.  1.  0.  0.  1.  0.  0.  0.  0.  0.  0.  0.  0.  1.  0.  1.  1.  0.\n",
      "  1.  0.  0.  0.  0.  0.  0.  0.  0.  0.  0.  0.  0.  1.  0.  1.  0.  0.\n",
      "  0.  0.  1.  0.  1.  1.  1.  0.  0.  1.  0.  0.  0.  1.  0.  0.  1.  0.\n",
      "  0.  1.  1.  0.  0.  0.  1.  0.  0.  0.  0.  0.  0.  0.  1.  0.  1.  0.\n",
      "  0.  1.  0.  0.  0.  0.  0.  0.  0.  0.  0.  0.  0.  1.  0.  1.  0.  0.\n",
      "  0.  0.  0.  0.  0.  0.  1.  0.  1.  0.  0.  1.  1.  0.  0.  0.  0.  1.\n",
      "  1.  0.  1.  0.  0.  0.  0.  0.  0.  0.  1.  1.  0.  0.  0.  0.  0.  0.\n",
      "  0.  0.  0.  1.  0.  0.  0.  1.  0.  0.  0.  0.  0.  0.  1.  0.  0.  0.\n",
      "  0.  1.  1.  0.  0.  1.  0.  1.  0.  0.  1.  0.  1.  0.  0.  0.  0.  0.\n",
      "  0.  0.  0.  0.  0.  0.  1.  1.  1.  1.  1.  0.  0.  0.  0.  0.  0.  0.\n",
      "  0.  1.  0.  0.  1.  0.  0.  1.  0.  0.  1.  0.  0.  0.  1.  0.  0.  0.\n",
      "  1.  0.  0.  0.  1.  0.  0.  0.  1.  1.  0.  0.  0.  0.  0.  0.  0.  0.\n",
      "  1.  0.  0.  1.  0.  0.  0.  1.  0.  0.  0.  0.  0.  1.  0.  0.  0.  0.\n",
      "  0.  1.  1.  0.  1.  1.  0.  0.  0.  0.  1.  0.  0.  1.  0.  0.  0.  1.\n",
      "  0.  1.  1.  0.  0.  0.  1.  0.  0.  0.  0.  0.  0.  0.  0.  0.  0.  0.\n",
      "  0.  0.  1.  0.  0.  0.  1.  1.  0.  0.  0.  1.  0.  0.  0.  0.  0.  0.\n",
      "  0.  0.  1.  0.  0.  1.  1.  0.  0.  0.  0.  0.  0.  0.  0.  0.  1.  0.\n",
      "  0.  1.  0.  0.  1.  0.  0.  0.  1.  0.  1.  0.  1.  0.  0.  0.  1.  1.\n",
      "  0.  1.  1.  0.  1.  0.  1.  1.  0.  0.  1.  1.  1.  0.  0.  0.  1.  0.\n",
      "  1.  0.  0.  0.  0.  0.  0.  1.  1.  0.  0.  1.  0.  1.  1.  1.  0.  0.\n",
      "  0.  0.  0.  0.  0.  0.  0.  1.  0.  0.  0.  0.  0.  1.  0.  0.  0.  0.\n",
      "  0.  0.  0.  0.  0.  0.  1.  1.  0.  1.  0.  0.  0.  0.  1.  0.  0.  0.\n",
      "  1.  0.  0.  1.  0.  0.  0.  0.  0.  0.  1.  1.  0.  0.  0.  1.  1.  0.\n",
      "  1.  0.  0.  0.  0.  0.  0.  0.  1.  0.  0.  0.  0.  1.  0.  0.  1.  1.\n",
      "  0.  0.  1.  0.  0.  0.  1.  1.  1.  0.  0.  0.  0.  1.  0.  0.  1.  0.\n",
      "  1.  1.  0.  1.  0.  0.  0.  1.  0.  0.  0.  0.  0.  0.  0.  0.  1.  0.\n",
      "  1.  1.  0.  0.  0.  0.  1.  1.  0.  1.  0.  1.  0.  0.  0.  0.  1.  0.\n",
      "  0.  1.  1.  1.  0.  1.  0.  0.  0.  0.  0.  0.  0.  0.  0.  0.  0.  0.\n",
      "  0.  0.  0.  0.  0.  1.  1.  0.  1.  0.  0.  0.  1.  0.  0.  0.  0.  0.\n",
      "  0.  0.  0.  0.  1.  0.  0.  0.  0.  0.  1.  1.  0.  0.  0.  1.  1.  0.\n",
      "  0.  0.  0.  0.  0.  0.  1.  1.  1.  0.  0.  0.  0.  0.  0.  0.  0.  1.\n",
      "  0.  0.  0.  0.  0.  0.  1.  0.  1.  0.  0.  0.  0.  0.  1.  0.  0.  1.\n",
      "  0.  1.  0.  0.  0.  0.  0.  1.  0.  0.  0.  0.  0.  0.  0.  0.  0.  0.\n",
      "  0.  0.  0.  1.  1.  0.  0.  0.  1.  0.  0.  0.  1.  0.  0.  0.  0.  0.\n",
      "  1.  0.  0.  0.  1.  0.  0.  0.  1.  0.  0.  0.  0.  1.  0.  0.  0.  1.\n",
      "  0.  0.  0.  0.  0.  0.  1.  0.  0.  0.  0.  1.  0.  1.  0.  1.  0.  0.\n",
      "  0.  0.  1.  0.  0.  0.  0.  1.  0.  0.  0.  0.  1.  0.  0.  0.  0.  0.\n",
      "  0.  0.  0.  0.  0.  0.  1.  0.  0.  0.  0.  0.  0.  1.  0.  0.  0.  0.\n",
      "  1.  1.  0.  1.  0.  0.  1.  0.  0.  0.  0.  0.  0.  0.  1.  0.  1.  0.\n",
      "  0.  0.  0.  0.  0.  1.  1.  0.  0.  0.  0.  0.  0.  1.  0.  1.  1.  0.\n",
      "  0.  0.  1.  0.  0.  0.  1.  0.  0.  1.  0.  0.  0.  1.  0.  0.  1.  0.\n",
      "  0.  1.  0.  1.  1.  0.  1.  0.  1.  0.  0.  0.  0.  0.  0.  1.  0.  1.\n",
      "  0.  0.  1.  1.  1.  0.  0.  0.  0.  1.  0.  1.  0.  0.  0.  0.  0.  0.\n",
      "  0.  0.  0.  0.  1.  0.  0.  0.  1.  1.  0.  0.  0.  0.  1.  0.  0.]\n"
     ]
    }
   ],
   "source": [
    "y_train_predicted = model.predict(X_train)\n",
    "y_test_predicted = model.predict(X_test)\n",
    "print(y_test_predicted)"
   ]
  },
  {
   "cell_type": "markdown",
   "metadata": {},
   "source": [
    "Ok so this model is just predicting zeros for everything. Not very useful\n",
    "\n",
    "We can use precision and recall to better evaluate its performance\n",
    "\n",
    "Could we also train it to optimize these costs, rather than the typical logloss?"
   ]
  },
  {
   "cell_type": "code",
   "execution_count": 19,
   "metadata": {
    "collapsed": false
   },
   "outputs": [
    {
     "name": "stdout",
     "output_type": "stream",
     "text": [
      "Train:  0.588812561335 0.46511627907\n",
      "Test:  0.0379146919431 0.380952380952\n"
     ]
    }
   ],
   "source": [
    "# use precision and recall metrics\n",
    "from sklearn.metrics import precision_score, recall_score\n",
    "\n",
    "\n",
    "precision_train = precision_score(y_train, y_train_predicted)\n",
    "recall_train = recall_score(y_train, y_train_predicted)\n",
    "\n",
    "precision_test = precision_score(y_test, y_test_predicted)\n",
    "recall_test = recall_score(y_test, y_test_predicted)\n",
    "\n",
    "\n",
    "print (\"Train: \", precision_train, recall_train)\n",
    "print (\"Test: \", precision_test, recall_test)"
   ]
  },
  {
   "cell_type": "code",
   "execution_count": 20,
   "metadata": {
    "collapsed": false
   },
   "outputs": [
    {
     "data": {
      "text/plain": [
       "0.068965517241379309"
      ]
     },
     "execution_count": 20,
     "metadata": {},
     "output_type": "execute_result"
    }
   ],
   "source": [
    "# use F1-score\n",
    "# from now on, this is what we'll use to evaluate models\n",
    "\n",
    "from tilestools import F1score\n",
    "F1score(y_test, y_test_predicted)\n",
    "\n",
    "# what does this score mean? we should at least be able to compare it to a random predictor or a always-zero predictor"
   ]
  },
  {
   "cell_type": "markdown",
   "metadata": {},
   "source": [
    "Well, shit.\n",
    "\n"
   ]
  },
  {
   "cell_type": "markdown",
   "metadata": {},
   "source": [
    "So, where to go now:\n",
    "\n",
    "1. ~~We clearly need more data - get data from other games~~ DONE\n",
    "2. ~~We clearly need better data - separate features into for and against~~ DONE\n",
    "3. We probably need a better model - would be nice to train with precision/recall rather than accuracy\n",
    "4. Also, we can try under-sampling and over-sampling!"
   ]
  },
  {
   "cell_type": "markdown",
   "metadata": {},
   "source": [
    "# Reference code\n",
    "\n",
    "Code not used"
   ]
  },
  {
   "cell_type": "markdown",
   "metadata": {
    "collapsed": false
   },
   "source": [
    "## Method 1 - with BeautifulSoup\n",
    "Not used\n"
   ]
  },
  {
   "cell_type": "code",
   "execution_count": null,
   "metadata": {
    "collapsed": false
   },
   "outputs": [],
   "source": [
    "# get all the info in the website, via inspecting the html code\n",
    "# not used \n",
    "\n",
    "from bs4 import BeautifulSoup\n",
    "import requests\n",
    "\n",
    "import pandas as pd\n",
    "\n",
    "url = \"http://stats.nba.com/game/#!/0041500314/playbyplay/\"\n",
    "r  = requests.get(url)\n",
    "\n",
    "data = r.text\n",
    "soup = BeautifulSoup(data)\n",
    "#print(soup.prettify())\n",
    "\n",
    "table = soup.find('table', attrs={'class': \"table\"})\n",
    "#print(table)\n",
    "\n",
    "\n",
    "rows = table.findAll('tr')\n",
    "for tr in rows:\n",
    "    cols = tr.findAll('td')\n",
    "    for td in cols:\n",
    "        text = td.find(text=True) + ';'\n",
    "#        print (text)\n"
   ]
  },
  {
   "cell_type": "code",
   "execution_count": null,
   "metadata": {
    "collapsed": false
   },
   "outputs": [],
   "source": [
    "# timeouts baby\n",
    "\n",
    "df_home  = df[df.HOMEDESCRIPTION.notnull()]\n",
    "df_home_timeouts=df_home[df_home.HOMEDESCRIPTION.str.contains(\"Timeout\")]\n",
    "\n",
    "df_away  = df[df.VISITORDESCRIPTION.notnull()]\n",
    "df_away_timeouts=df_away[df_away.VISITORDESCRIPTION.str.contains(\"Timeout\")]"
   ]
  },
  {
   "cell_type": "code",
   "execution_count": null,
   "metadata": {
    "collapsed": false
   },
   "outputs": [],
   "source": [
    "total_timeouts = pd.concat([df_home_timeouts, df_away_timeouts])"
   ]
  },
  {
   "cell_type": "code",
   "execution_count": null,
   "metadata": {
    "collapsed": false,
    "scrolled": true
   },
   "outputs": [],
   "source": [
    "total_timeouts.sort_values(by=\"EVENTNUM\")[[\"EVENTMSGTYPE\", \"HOMEDESCRIPTION\", \"VISITORDESCRIPTION\", \"SCORE\"]]"
   ]
  },
  {
   "cell_type": "code",
   "execution_count": null,
   "metadata": {
    "collapsed": true
   },
   "outputs": [],
   "source": []
  },
  {
   "cell_type": "code",
   "execution_count": null,
   "metadata": {
    "collapsed": false
   },
   "outputs": [],
   "source": [
    "# Explore data\n",
    "# fields to explore: EVENTMSGACTIONTYPE, EVENTMSGTYPE\n",
    "\n",
    "field_to_explore = \"EVENTMSGTYPE\"\n",
    "fields_to_show = [field_to_explore] + [\"EVENTMSGACTIONTYPE\", \"HOMEDESCRIPTION\", \"NEUTRALDESCRIPTION\", \"VISITORDESCRIPTION\"]\n",
    "\n",
    "a = df[fields_to_show]\n",
    "\n",
    "max_ = df[field_to_explore].max()\n",
    "\n",
    "from ipywidgets import interact\n",
    "\n",
    "n=1\n",
    "@interact(emat = (0,int(max_)))\n",
    "def show_df(emat=n):\n",
    "    display(a[a[field_to_explore] == emat])\n"
   ]
  }
 ],
 "metadata": {
  "kernelspec": {
   "display_name": "Python 3 (python3)",
   "language": "python",
   "name": "py3kernel"
  },
  "language_info": {
   "codemirror_mode": {
    "name": "ipython",
    "version": 3
   },
   "file_extension": ".py",
   "mimetype": "text/x-python",
   "name": "python",
   "nbconvert_exporter": "python",
   "pygments_lexer": "ipython3",
   "version": "3.5.2"
  }
 },
 "nbformat": 4,
 "nbformat_minor": 0
}
